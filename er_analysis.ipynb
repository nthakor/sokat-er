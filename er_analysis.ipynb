{
 "nbformat": 4,
 "nbformat_minor": 2,
 "metadata": {
  "language_info": {
   "name": "python",
   "codemirror_mode": {
    "name": "ipython",
    "version": 3
   },
   "version": "3.7.7-final"
  },
  "orig_nbformat": 2,
  "file_extension": ".py",
  "mimetype": "text/x-python",
  "name": "python",
  "npconvert_exporter": "python",
  "pygments_lexer": "ipython3",
  "version": 3,
  "kernelspec": {
   "name": "python37664bitanaconda3virtualenv78189820337c4dbe9e82b1baaa31e074",
   "display_name": "Python 3.7.6 64-bit ('anaconda3': virtualenv)"
  }
 },
 "cells": [
  {
   "cell_type": "code",
   "execution_count": 1,
   "metadata": {},
   "outputs": [],
   "source": [
    "import pandas as pd"
   ]
  },
  {
   "cell_type": "code",
   "execution_count": 9,
   "metadata": {},
   "outputs": [],
   "source": [
    "df = pd.read_excel(\"Allstatesmodified.xlsx\")\n",
    "df = df[df.Reviews>10]"
   ]
  },
  {
   "cell_type": "code",
   "execution_count": 11,
   "metadata": {},
   "outputs": [],
   "source": [
    "import folium\n"
   ]
  },
  {
   "cell_type": "code",
   "execution_count": 12,
   "metadata": {},
   "outputs": [
    {
     "output_type": "execute_result",
     "data": {
      "text/plain": "   Unnamed: 0                                        Name  \\\n0           0     Sentara Virginia Beach General Hospital   \n1           1   AEHS Annandale Primary Care & Urgent Care   \n2           2  Ashburn Medical Center | Kaiser Permanente   \n3           3                           Titan Dental Care   \n4           4                        Metromed Urgent Care   \n\n                                        Full_Address              Website  \\\n0  1060 First Colonial Road, Virginia Beach, VA 2...          sentara.com   \n1    7432 Little River Turnpike, Annandale, VA 22003   aehealthsystem.com   \n2             43480 Yukon Dr #100, Ashburn, VA 20147               kp.org   \n3        21351 Gentry Dr STE 135, Sterling, VA 20166  titandentalcare.com   \n4        952 Edwards Ferry Rd NE, Leesburg, VA 20176       metromeduc.com   \n\n                          Plus_Code Rating  Reviews  \\\n0  VX7F+WF Virginia Beach, Virginia    2.8    160.0   \n1       RQJX+W9 Annandale, Virginia    3.5     77.0   \n2         2G54+9R Ashburn, Virginia    3.6     59.0   \n3        2HGV+36 Sterling, Virginia    4.9    275.0   \n4        4F86+P4 Leesburg, Virginia    4.9     50.0   \n\n                                                 URL  longitude   latitude  \\\n0  https://www.google.com/maps/place/Sentara+Virg... -76.027424  36.864183   \n1  https://www.google.com/maps/place/AEHS+Annanda... -77.201510  38.832503   \n2  https://www.google.com/maps/place/Ashburn+Medi... -77.492925  39.008500   \n3  https://www.google.com/maps/place/Titan+Dental... -77.407372  39.024958   \n4  https://www.google.com/maps/place/Metromed+Urg... -77.539673  39.116820   \n\n  State Zipcode                      Street            City  \n0    VA   23454    1060 First Colonial Road  Virginia Beach  \n1    VA   22003  7432 Little River Turnpike       Annandale  \n2    VA   20147         43480 Yukon Dr #100         Ashburn  \n3    VA   20166     21351 Gentry Dr STE 135        Sterling  \n4    VA   20176     952 Edwards Ferry Rd NE        Leesburg  ",
      "text/html": "<div>\n<style scoped>\n    .dataframe tbody tr th:only-of-type {\n        vertical-align: middle;\n    }\n\n    .dataframe tbody tr th {\n        vertical-align: top;\n    }\n\n    .dataframe thead th {\n        text-align: right;\n    }\n</style>\n<table border=\"1\" class=\"dataframe\">\n  <thead>\n    <tr style=\"text-align: right;\">\n      <th></th>\n      <th>Unnamed: 0</th>\n      <th>Name</th>\n      <th>Full_Address</th>\n      <th>Website</th>\n      <th>Plus_Code</th>\n      <th>Rating</th>\n      <th>Reviews</th>\n      <th>URL</th>\n      <th>longitude</th>\n      <th>latitude</th>\n      <th>State</th>\n      <th>Zipcode</th>\n      <th>Street</th>\n      <th>City</th>\n    </tr>\n  </thead>\n  <tbody>\n    <tr>\n      <th>0</th>\n      <td>0</td>\n      <td>Sentara Virginia Beach General Hospital</td>\n      <td>1060 First Colonial Road, Virginia Beach, VA 2...</td>\n      <td>sentara.com</td>\n      <td>VX7F+WF Virginia Beach, Virginia</td>\n      <td>2.8</td>\n      <td>160.0</td>\n      <td>https://www.google.com/maps/place/Sentara+Virg...</td>\n      <td>-76.027424</td>\n      <td>36.864183</td>\n      <td>VA</td>\n      <td>23454</td>\n      <td>1060 First Colonial Road</td>\n      <td>Virginia Beach</td>\n    </tr>\n    <tr>\n      <th>1</th>\n      <td>1</td>\n      <td>AEHS Annandale Primary Care &amp; Urgent Care</td>\n      <td>7432 Little River Turnpike, Annandale, VA 22003</td>\n      <td>aehealthsystem.com</td>\n      <td>RQJX+W9 Annandale, Virginia</td>\n      <td>3.5</td>\n      <td>77.0</td>\n      <td>https://www.google.com/maps/place/AEHS+Annanda...</td>\n      <td>-77.201510</td>\n      <td>38.832503</td>\n      <td>VA</td>\n      <td>22003</td>\n      <td>7432 Little River Turnpike</td>\n      <td>Annandale</td>\n    </tr>\n    <tr>\n      <th>2</th>\n      <td>2</td>\n      <td>Ashburn Medical Center | Kaiser Permanente</td>\n      <td>43480 Yukon Dr #100, Ashburn, VA 20147</td>\n      <td>kp.org</td>\n      <td>2G54+9R Ashburn, Virginia</td>\n      <td>3.6</td>\n      <td>59.0</td>\n      <td>https://www.google.com/maps/place/Ashburn+Medi...</td>\n      <td>-77.492925</td>\n      <td>39.008500</td>\n      <td>VA</td>\n      <td>20147</td>\n      <td>43480 Yukon Dr #100</td>\n      <td>Ashburn</td>\n    </tr>\n    <tr>\n      <th>3</th>\n      <td>3</td>\n      <td>Titan Dental Care</td>\n      <td>21351 Gentry Dr STE 135, Sterling, VA 20166</td>\n      <td>titandentalcare.com</td>\n      <td>2HGV+36 Sterling, Virginia</td>\n      <td>4.9</td>\n      <td>275.0</td>\n      <td>https://www.google.com/maps/place/Titan+Dental...</td>\n      <td>-77.407372</td>\n      <td>39.024958</td>\n      <td>VA</td>\n      <td>20166</td>\n      <td>21351 Gentry Dr STE 135</td>\n      <td>Sterling</td>\n    </tr>\n    <tr>\n      <th>4</th>\n      <td>4</td>\n      <td>Metromed Urgent Care</td>\n      <td>952 Edwards Ferry Rd NE, Leesburg, VA 20176</td>\n      <td>metromeduc.com</td>\n      <td>4F86+P4 Leesburg, Virginia</td>\n      <td>4.9</td>\n      <td>50.0</td>\n      <td>https://www.google.com/maps/place/Metromed+Urg...</td>\n      <td>-77.539673</td>\n      <td>39.116820</td>\n      <td>VA</td>\n      <td>20176</td>\n      <td>952 Edwards Ferry Rd NE</td>\n      <td>Leesburg</td>\n    </tr>\n  </tbody>\n</table>\n</div>"
     },
     "metadata": {},
     "execution_count": 12
    }
   ],
   "source": [
    "df.head()"
   ]
  },
  {
   "cell_type": "code",
   "execution_count": 16,
   "metadata": {},
   "outputs": [
    {
     "output_type": "execute_result",
     "data": {
      "text/plain": "0       2.8\n1       3.5\n2       3.6\n3       4.9\n4       4.9\n       ... \n8778    3.6\n8782    3.3\n8790    2.9\n8791    2.8\n8792    3.3\nName: Rating, Length: 5178, dtype: object"
     },
     "metadata": {},
     "execution_count": 16
    }
   ],
   "source": []
  },
  {
   "cell_type": "code",
   "execution_count": null,
   "metadata": {},
   "outputs": [],
   "source": []
  }
 ]
}